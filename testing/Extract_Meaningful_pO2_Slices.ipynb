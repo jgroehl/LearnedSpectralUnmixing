{
 "cells": [
  {
   "cell_type": "code",
   "execution_count": 26,
   "metadata": {},
   "outputs": [],
   "source": [
    "import os\n",
    "import sys\n",
    "module_path = os.path.abspath(os.path.join('..'))\n",
    "if module_path not in sys.path:\n",
    "    sys.path.append(module_path)\n",
    "from utils.io import preprocess_data\n",
    "import matplotlib.gridspec as gridspec\n",
    "import numpy as np\n",
    "from paths import TRAINING_DATA_PATH,EXAMPLE_PATH\n",
    "import glob\n",
    "import simpa as sp\n",
    "import matplotlib.pyplot as plt\n",
    "from matplotlib_scalebar.scalebar import ScaleBar\n",
    "import umap\n",
    "from matplotlib.colors import LinearSegmentedColormap\n",
    "import patato as pat\n",
    "import nrrd"
   ]
  },
  {
   "cell_type": "code",
   "execution_count": 2,
   "metadata": {},
   "outputs": [],
   "source": [
    "PATH = r\"I:\\research\\seblab\\data\\group_folders\\Janek\\Mouse_TerminalCO2\\processed/\""
   ]
  },
  {
   "cell_type": "code",
   "execution_count": 3,
   "metadata": {},
   "outputs": [],
   "source": [
    "scans = glob.glob(PATH + \"Scan_*.hdf5\")"
   ]
  },
  {
   "cell_type": "code",
   "execution_count": 7,
   "metadata": {},
   "outputs": [],
   "source": [
    "timesteps = [0, 5, 10, -15, -10, -5]"
   ]
  },
  {
   "cell_type": "code",
   "execution_count": 43,
   "metadata": {},
   "outputs": [
    {
     "name": "stdout",
     "output_type": "stream",
     "text": [
      "Scan_1\n",
      "Scan_2\n",
      "Scan_3\n",
      "Scan_5\n",
      "Scan_6\n",
      "Scan_7\n"
     ]
    }
   ],
   "source": [
    "for scan in scans:\n",
    "    scan_name = scan.split(\"\\\\\")[-1].split(\".\")[0]\n",
    "    print(scan_name)\n",
    "    pa_data = pat.PAData.from_hdf5(scan)    \n",
    "    recon = pa_data.get_scan_reconstructions()[('OpenCL Backprojection', '0')][timesteps, :, :, :, :]\n",
    "    \n",
    "#     np.savez(PATH + \"/\" + scan_name + \"_slices.npz\", recon=recon.raw_data)\n",
    "#     nrrd.write(PATH + \"/\" + scan_name + \"_slices.nrrd\", recon.raw_data[:, 4, :, :])\n",
    "\n",
    "    unmixer = pat.SpectralUnmixer(chromophores=[\"Hb\", \"HbO2\"],\n",
    "                                  wavelengths = pa_data.get_wavelengths(), rescaling_factor=1)\n",
    "    so2_calculator = pat.SO2Calculator(nan_invalid=True)\n",
    "\n",
    "    unmixed, _, _ = unmixer.run(recon, None)\n",
    "    so2, _, _ = so2_calculator.run(unmixed, None)\n",
    "    \n",
    "    nrrd.write(PATH + \"/\" + scan_name + \"_sO2.nrrd\", so2.raw_data[:, 0, :, :])"
   ]
  },
  {
   "cell_type": "code",
   "execution_count": 45,
   "metadata": {},
   "outputs": [],
   "source": [
    "wl = pa_data.get_wavelengths()"
   ]
  },
  {
   "cell_type": "code",
   "execution_count": 50,
   "metadata": {},
   "outputs": [],
   "source": [
    "for scan in scans:\n",
    "    scan_name = scan.split(\"\\\\\")[-1].split(\".\")[0]\n",
    "    label_path = scan.replace(\".hdf5\", \"_slices-labels.nrrd\")\n",
    "    spectra_path = scan.replace(\".hdf5\", \"_slices.npz\")\n",
    "    lu_path = scan.replace(\".hdf5\", \"_sO2.nrrd\")\n",
    "    labels, _ = nrrd.read(label_path)\n",
    "    lu, _ = nrrd.read(lu_path)\n",
    "    spectra = np.load(spectra_path)[\"recon\"]\n",
    "    \n",
    "    np.savez(scan.replace(\"Scan\", \"CO2\").replace(\".hdf5\", \".npz\"),\n",
    "            lu=lu,\n",
    "            reference_mask=labels,\n",
    "            spectra=spectra,\n",
    "            wavelengths=wl)"
   ]
  },
  {
   "cell_type": "code",
   "execution_count": null,
   "metadata": {},
   "outputs": [],
   "source": []
  }
 ],
 "metadata": {
  "kernelspec": {
   "display_name": "Python 3",
   "language": "python",
   "name": "python3"
  },
  "language_info": {
   "codemirror_mode": {
    "name": "ipython",
    "version": 3
   },
   "file_extension": ".py",
   "mimetype": "text/x-python",
   "name": "python",
   "nbconvert_exporter": "python",
   "pygments_lexer": "ipython3",
   "version": "3.8.5"
  }
 },
 "nbformat": 4,
 "nbformat_minor": 4
}
